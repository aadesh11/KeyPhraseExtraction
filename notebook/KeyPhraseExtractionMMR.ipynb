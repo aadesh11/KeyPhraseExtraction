{
  "nbformat": 4,
  "nbformat_minor": 0,
  "metadata": {
    "colab": {
      "name": "KeyPhraseExtractionMMR.ipynb",
      "provenance": [],
      "collapsed_sections": [],
      "toc_visible": true
    },
    "kernelspec": {
      "name": "python3",
      "display_name": "Python 3"
    },
    "language_info": {
      "name": "python"
    },
    "widgets": {
      "application/vnd.jupyter.widget-state+json": {
        "5dfde7435bcc4fbf81bbcbfcba3697e3": {
          "model_module": "@jupyter-widgets/controls",
          "model_name": "HBoxModel",
          "state": {
            "_view_name": "HBoxView",
            "_dom_classes": [],
            "_model_name": "HBoxModel",
            "_view_module": "@jupyter-widgets/controls",
            "_model_module_version": "1.5.0",
            "_view_count": null,
            "_view_module_version": "1.5.0",
            "box_style": "",
            "layout": "IPY_MODEL_5d4b6a5abc3b4f418f5b20a8b3d2f838",
            "_model_module": "@jupyter-widgets/controls",
            "children": [
              "IPY_MODEL_939a42dcc27c43bb8d7848cdc51b6b39",
              "IPY_MODEL_4584ae0ec357432d97a6ce481537092e"
            ]
          }
        },
        "5d4b6a5abc3b4f418f5b20a8b3d2f838": {
          "model_module": "@jupyter-widgets/base",
          "model_name": "LayoutModel",
          "state": {
            "_view_name": "LayoutView",
            "grid_template_rows": null,
            "right": null,
            "justify_content": null,
            "_view_module": "@jupyter-widgets/base",
            "overflow": null,
            "_model_module_version": "1.2.0",
            "_view_count": null,
            "flex_flow": null,
            "width": null,
            "min_width": null,
            "border": null,
            "align_items": null,
            "bottom": null,
            "_model_module": "@jupyter-widgets/base",
            "top": null,
            "grid_column": null,
            "overflow_y": null,
            "overflow_x": null,
            "grid_auto_flow": null,
            "grid_area": null,
            "grid_template_columns": null,
            "flex": null,
            "_model_name": "LayoutModel",
            "justify_items": null,
            "grid_row": null,
            "max_height": null,
            "align_content": null,
            "visibility": null,
            "align_self": null,
            "height": null,
            "min_height": null,
            "padding": null,
            "grid_auto_rows": null,
            "grid_gap": null,
            "max_width": null,
            "order": null,
            "_view_module_version": "1.2.0",
            "grid_template_areas": null,
            "object_position": null,
            "object_fit": null,
            "grid_auto_columns": null,
            "margin": null,
            "display": null,
            "left": null
          }
        },
        "939a42dcc27c43bb8d7848cdc51b6b39": {
          "model_module": "@jupyter-widgets/controls",
          "model_name": "FloatProgressModel",
          "state": {
            "_view_name": "ProgressView",
            "style": "IPY_MODEL_9a77cec0dcb84bd4a7ca87950aa5560e",
            "_dom_classes": [],
            "description": "Downloading: 100%",
            "_model_name": "FloatProgressModel",
            "bar_style": "success",
            "max": 512,
            "_view_module": "@jupyter-widgets/controls",
            "_model_module_version": "1.5.0",
            "value": 512,
            "_view_count": null,
            "_view_module_version": "1.5.0",
            "orientation": "horizontal",
            "min": 0,
            "description_tooltip": null,
            "_model_module": "@jupyter-widgets/controls",
            "layout": "IPY_MODEL_e406e4c4dfd848bfa9e7aabd3bb5d577"
          }
        },
        "4584ae0ec357432d97a6ce481537092e": {
          "model_module": "@jupyter-widgets/controls",
          "model_name": "HTMLModel",
          "state": {
            "_view_name": "HTMLView",
            "style": "IPY_MODEL_b69d1a82c3fd445d924a1a82a2d07b07",
            "_dom_classes": [],
            "description": "",
            "_model_name": "HTMLModel",
            "placeholder": "​",
            "_view_module": "@jupyter-widgets/controls",
            "_model_module_version": "1.5.0",
            "value": " 512/512 [00:00&lt;00:00, 1.83kB/s]",
            "_view_count": null,
            "_view_module_version": "1.5.0",
            "description_tooltip": null,
            "_model_module": "@jupyter-widgets/controls",
            "layout": "IPY_MODEL_b6003fc970b54815820e9ad305b6e33c"
          }
        },
        "9a77cec0dcb84bd4a7ca87950aa5560e": {
          "model_module": "@jupyter-widgets/controls",
          "model_name": "ProgressStyleModel",
          "state": {
            "_view_name": "StyleView",
            "_model_name": "ProgressStyleModel",
            "description_width": "initial",
            "_view_module": "@jupyter-widgets/base",
            "_model_module_version": "1.5.0",
            "_view_count": null,
            "_view_module_version": "1.2.0",
            "bar_color": null,
            "_model_module": "@jupyter-widgets/controls"
          }
        },
        "e406e4c4dfd848bfa9e7aabd3bb5d577": {
          "model_module": "@jupyter-widgets/base",
          "model_name": "LayoutModel",
          "state": {
            "_view_name": "LayoutView",
            "grid_template_rows": null,
            "right": null,
            "justify_content": null,
            "_view_module": "@jupyter-widgets/base",
            "overflow": null,
            "_model_module_version": "1.2.0",
            "_view_count": null,
            "flex_flow": null,
            "width": null,
            "min_width": null,
            "border": null,
            "align_items": null,
            "bottom": null,
            "_model_module": "@jupyter-widgets/base",
            "top": null,
            "grid_column": null,
            "overflow_y": null,
            "overflow_x": null,
            "grid_auto_flow": null,
            "grid_area": null,
            "grid_template_columns": null,
            "flex": null,
            "_model_name": "LayoutModel",
            "justify_items": null,
            "grid_row": null,
            "max_height": null,
            "align_content": null,
            "visibility": null,
            "align_self": null,
            "height": null,
            "min_height": null,
            "padding": null,
            "grid_auto_rows": null,
            "grid_gap": null,
            "max_width": null,
            "order": null,
            "_view_module_version": "1.2.0",
            "grid_template_areas": null,
            "object_position": null,
            "object_fit": null,
            "grid_auto_columns": null,
            "margin": null,
            "display": null,
            "left": null
          }
        },
        "b69d1a82c3fd445d924a1a82a2d07b07": {
          "model_module": "@jupyter-widgets/controls",
          "model_name": "DescriptionStyleModel",
          "state": {
            "_view_name": "StyleView",
            "_model_name": "DescriptionStyleModel",
            "description_width": "",
            "_view_module": "@jupyter-widgets/base",
            "_model_module_version": "1.5.0",
            "_view_count": null,
            "_view_module_version": "1.2.0",
            "_model_module": "@jupyter-widgets/controls"
          }
        },
        "b6003fc970b54815820e9ad305b6e33c": {
          "model_module": "@jupyter-widgets/base",
          "model_name": "LayoutModel",
          "state": {
            "_view_name": "LayoutView",
            "grid_template_rows": null,
            "right": null,
            "justify_content": null,
            "_view_module": "@jupyter-widgets/base",
            "overflow": null,
            "_model_module_version": "1.2.0",
            "_view_count": null,
            "flex_flow": null,
            "width": null,
            "min_width": null,
            "border": null,
            "align_items": null,
            "bottom": null,
            "_model_module": "@jupyter-widgets/base",
            "top": null,
            "grid_column": null,
            "overflow_y": null,
            "overflow_x": null,
            "grid_auto_flow": null,
            "grid_area": null,
            "grid_template_columns": null,
            "flex": null,
            "_model_name": "LayoutModel",
            "justify_items": null,
            "grid_row": null,
            "max_height": null,
            "align_content": null,
            "visibility": null,
            "align_self": null,
            "height": null,
            "min_height": null,
            "padding": null,
            "grid_auto_rows": null,
            "grid_gap": null,
            "max_width": null,
            "order": null,
            "_view_module_version": "1.2.0",
            "grid_template_areas": null,
            "object_position": null,
            "object_fit": null,
            "grid_auto_columns": null,
            "margin": null,
            "display": null,
            "left": null
          }
        },
        "10a075ae73904f3aa8512894aba683c2": {
          "model_module": "@jupyter-widgets/controls",
          "model_name": "HBoxModel",
          "state": {
            "_view_name": "HBoxView",
            "_dom_classes": [],
            "_model_name": "HBoxModel",
            "_view_module": "@jupyter-widgets/controls",
            "_model_module_version": "1.5.0",
            "_view_count": null,
            "_view_module_version": "1.5.0",
            "box_style": "",
            "layout": "IPY_MODEL_ce8e7d2a7fc743508c90308846ec1e11",
            "_model_module": "@jupyter-widgets/controls",
            "children": [
              "IPY_MODEL_7c18edd5d133462c8e0bd63b8e2102c9",
              "IPY_MODEL_69f0622c44484361a8022838b4b56fe1"
            ]
          }
        },
        "ce8e7d2a7fc743508c90308846ec1e11": {
          "model_module": "@jupyter-widgets/base",
          "model_name": "LayoutModel",
          "state": {
            "_view_name": "LayoutView",
            "grid_template_rows": null,
            "right": null,
            "justify_content": null,
            "_view_module": "@jupyter-widgets/base",
            "overflow": null,
            "_model_module_version": "1.2.0",
            "_view_count": null,
            "flex_flow": null,
            "width": null,
            "min_width": null,
            "border": null,
            "align_items": null,
            "bottom": null,
            "_model_module": "@jupyter-widgets/base",
            "top": null,
            "grid_column": null,
            "overflow_y": null,
            "overflow_x": null,
            "grid_auto_flow": null,
            "grid_area": null,
            "grid_template_columns": null,
            "flex": null,
            "_model_name": "LayoutModel",
            "justify_items": null,
            "grid_row": null,
            "max_height": null,
            "align_content": null,
            "visibility": null,
            "align_self": null,
            "height": null,
            "min_height": null,
            "padding": null,
            "grid_auto_rows": null,
            "grid_gap": null,
            "max_width": null,
            "order": null,
            "_view_module_version": "1.2.0",
            "grid_template_areas": null,
            "object_position": null,
            "object_fit": null,
            "grid_auto_columns": null,
            "margin": null,
            "display": null,
            "left": null
          }
        },
        "7c18edd5d133462c8e0bd63b8e2102c9": {
          "model_module": "@jupyter-widgets/controls",
          "model_name": "FloatProgressModel",
          "state": {
            "_view_name": "ProgressView",
            "style": "IPY_MODEL_d0fc797e868442efa9830cca366bb670",
            "_dom_classes": [],
            "description": "Downloading: 100%",
            "_model_name": "FloatProgressModel",
            "bar_style": "success",
            "max": 1115590446,
            "_view_module": "@jupyter-widgets/controls",
            "_model_module_version": "1.5.0",
            "value": 1115590446,
            "_view_count": null,
            "_view_module_version": "1.5.0",
            "orientation": "horizontal",
            "min": 0,
            "description_tooltip": null,
            "_model_module": "@jupyter-widgets/controls",
            "layout": "IPY_MODEL_befe20867c0a4daca0a5e29b6cf3ead2"
          }
        },
        "69f0622c44484361a8022838b4b56fe1": {
          "model_module": "@jupyter-widgets/controls",
          "model_name": "HTMLModel",
          "state": {
            "_view_name": "HTMLView",
            "style": "IPY_MODEL_ace2e40457094e01a6d7c3377bade80f",
            "_dom_classes": [],
            "description": "",
            "_model_name": "HTMLModel",
            "placeholder": "​",
            "_view_module": "@jupyter-widgets/controls",
            "_model_module_version": "1.5.0",
            "value": " 1.12G/1.12G [00:33&lt;00:00, 33.5MB/s]",
            "_view_count": null,
            "_view_module_version": "1.5.0",
            "description_tooltip": null,
            "_model_module": "@jupyter-widgets/controls",
            "layout": "IPY_MODEL_8d7e04e80e5245a0a23c1f88f565df52"
          }
        },
        "d0fc797e868442efa9830cca366bb670": {
          "model_module": "@jupyter-widgets/controls",
          "model_name": "ProgressStyleModel",
          "state": {
            "_view_name": "StyleView",
            "_model_name": "ProgressStyleModel",
            "description_width": "initial",
            "_view_module": "@jupyter-widgets/base",
            "_model_module_version": "1.5.0",
            "_view_count": null,
            "_view_module_version": "1.2.0",
            "bar_color": null,
            "_model_module": "@jupyter-widgets/controls"
          }
        },
        "befe20867c0a4daca0a5e29b6cf3ead2": {
          "model_module": "@jupyter-widgets/base",
          "model_name": "LayoutModel",
          "state": {
            "_view_name": "LayoutView",
            "grid_template_rows": null,
            "right": null,
            "justify_content": null,
            "_view_module": "@jupyter-widgets/base",
            "overflow": null,
            "_model_module_version": "1.2.0",
            "_view_count": null,
            "flex_flow": null,
            "width": null,
            "min_width": null,
            "border": null,
            "align_items": null,
            "bottom": null,
            "_model_module": "@jupyter-widgets/base",
            "top": null,
            "grid_column": null,
            "overflow_y": null,
            "overflow_x": null,
            "grid_auto_flow": null,
            "grid_area": null,
            "grid_template_columns": null,
            "flex": null,
            "_model_name": "LayoutModel",
            "justify_items": null,
            "grid_row": null,
            "max_height": null,
            "align_content": null,
            "visibility": null,
            "align_self": null,
            "height": null,
            "min_height": null,
            "padding": null,
            "grid_auto_rows": null,
            "grid_gap": null,
            "max_width": null,
            "order": null,
            "_view_module_version": "1.2.0",
            "grid_template_areas": null,
            "object_position": null,
            "object_fit": null,
            "grid_auto_columns": null,
            "margin": null,
            "display": null,
            "left": null
          }
        },
        "ace2e40457094e01a6d7c3377bade80f": {
          "model_module": "@jupyter-widgets/controls",
          "model_name": "DescriptionStyleModel",
          "state": {
            "_view_name": "StyleView",
            "_model_name": "DescriptionStyleModel",
            "description_width": "",
            "_view_module": "@jupyter-widgets/base",
            "_model_module_version": "1.5.0",
            "_view_count": null,
            "_view_module_version": "1.2.0",
            "_model_module": "@jupyter-widgets/controls"
          }
        },
        "8d7e04e80e5245a0a23c1f88f565df52": {
          "model_module": "@jupyter-widgets/base",
          "model_name": "LayoutModel",
          "state": {
            "_view_name": "LayoutView",
            "grid_template_rows": null,
            "right": null,
            "justify_content": null,
            "_view_module": "@jupyter-widgets/base",
            "overflow": null,
            "_model_module_version": "1.2.0",
            "_view_count": null,
            "flex_flow": null,
            "width": null,
            "min_width": null,
            "border": null,
            "align_items": null,
            "bottom": null,
            "_model_module": "@jupyter-widgets/base",
            "top": null,
            "grid_column": null,
            "overflow_y": null,
            "overflow_x": null,
            "grid_auto_flow": null,
            "grid_area": null,
            "grid_template_columns": null,
            "flex": null,
            "_model_name": "LayoutModel",
            "justify_items": null,
            "grid_row": null,
            "max_height": null,
            "align_content": null,
            "visibility": null,
            "align_self": null,
            "height": null,
            "min_height": null,
            "padding": null,
            "grid_auto_rows": null,
            "grid_gap": null,
            "max_width": null,
            "order": null,
            "_view_module_version": "1.2.0",
            "grid_template_areas": null,
            "object_position": null,
            "object_fit": null,
            "grid_auto_columns": null,
            "margin": null,
            "display": null,
            "left": null
          }
        },
        "f4653eae96b24349b042af9c6194ff54": {
          "model_module": "@jupyter-widgets/controls",
          "model_name": "HBoxModel",
          "state": {
            "_view_name": "HBoxView",
            "_dom_classes": [],
            "_model_name": "HBoxModel",
            "_view_module": "@jupyter-widgets/controls",
            "_model_module_version": "1.5.0",
            "_view_count": null,
            "_view_module_version": "1.5.0",
            "box_style": "",
            "layout": "IPY_MODEL_3ee1af17db24462986c4ccd7bb571535",
            "_model_module": "@jupyter-widgets/controls",
            "children": [
              "IPY_MODEL_653166de73bd40c08d6bdf34b8e9a59d",
              "IPY_MODEL_f180b3dccb584159adfbf66162204801"
            ]
          }
        },
        "3ee1af17db24462986c4ccd7bb571535": {
          "model_module": "@jupyter-widgets/base",
          "model_name": "LayoutModel",
          "state": {
            "_view_name": "LayoutView",
            "grid_template_rows": null,
            "right": null,
            "justify_content": null,
            "_view_module": "@jupyter-widgets/base",
            "overflow": null,
            "_model_module_version": "1.2.0",
            "_view_count": null,
            "flex_flow": null,
            "width": null,
            "min_width": null,
            "border": null,
            "align_items": null,
            "bottom": null,
            "_model_module": "@jupyter-widgets/base",
            "top": null,
            "grid_column": null,
            "overflow_y": null,
            "overflow_x": null,
            "grid_auto_flow": null,
            "grid_area": null,
            "grid_template_columns": null,
            "flex": null,
            "_model_name": "LayoutModel",
            "justify_items": null,
            "grid_row": null,
            "max_height": null,
            "align_content": null,
            "visibility": null,
            "align_self": null,
            "height": null,
            "min_height": null,
            "padding": null,
            "grid_auto_rows": null,
            "grid_gap": null,
            "max_width": null,
            "order": null,
            "_view_module_version": "1.2.0",
            "grid_template_areas": null,
            "object_position": null,
            "object_fit": null,
            "grid_auto_columns": null,
            "margin": null,
            "display": null,
            "left": null
          }
        },
        "653166de73bd40c08d6bdf34b8e9a59d": {
          "model_module": "@jupyter-widgets/controls",
          "model_name": "FloatProgressModel",
          "state": {
            "_view_name": "ProgressView",
            "style": "IPY_MODEL_bb29a5e696224f01b832c87a7b38ca13",
            "_dom_classes": [],
            "description": "Downloading: 100%",
            "_model_name": "FloatProgressModel",
            "bar_style": "success",
            "max": 5069051,
            "_view_module": "@jupyter-widgets/controls",
            "_model_module_version": "1.5.0",
            "value": 5069051,
            "_view_count": null,
            "_view_module_version": "1.5.0",
            "orientation": "horizontal",
            "min": 0,
            "description_tooltip": null,
            "_model_module": "@jupyter-widgets/controls",
            "layout": "IPY_MODEL_97f125fef1f34994ae41de729522dce6"
          }
        },
        "f180b3dccb584159adfbf66162204801": {
          "model_module": "@jupyter-widgets/controls",
          "model_name": "HTMLModel",
          "state": {
            "_view_name": "HTMLView",
            "style": "IPY_MODEL_2d5bee363638457bb82dd0ebbc16fdf0",
            "_dom_classes": [],
            "description": "",
            "_model_name": "HTMLModel",
            "placeholder": "​",
            "_view_module": "@jupyter-widgets/controls",
            "_model_module_version": "1.5.0",
            "value": " 5.07M/5.07M [00:00&lt;00:00, 8.43MB/s]",
            "_view_count": null,
            "_view_module_version": "1.5.0",
            "description_tooltip": null,
            "_model_module": "@jupyter-widgets/controls",
            "layout": "IPY_MODEL_e1e0cf5d60bd43d2b5ae07be7e8daf32"
          }
        },
        "bb29a5e696224f01b832c87a7b38ca13": {
          "model_module": "@jupyter-widgets/controls",
          "model_name": "ProgressStyleModel",
          "state": {
            "_view_name": "StyleView",
            "_model_name": "ProgressStyleModel",
            "description_width": "initial",
            "_view_module": "@jupyter-widgets/base",
            "_model_module_version": "1.5.0",
            "_view_count": null,
            "_view_module_version": "1.2.0",
            "bar_color": null,
            "_model_module": "@jupyter-widgets/controls"
          }
        },
        "97f125fef1f34994ae41de729522dce6": {
          "model_module": "@jupyter-widgets/base",
          "model_name": "LayoutModel",
          "state": {
            "_view_name": "LayoutView",
            "grid_template_rows": null,
            "right": null,
            "justify_content": null,
            "_view_module": "@jupyter-widgets/base",
            "overflow": null,
            "_model_module_version": "1.2.0",
            "_view_count": null,
            "flex_flow": null,
            "width": null,
            "min_width": null,
            "border": null,
            "align_items": null,
            "bottom": null,
            "_model_module": "@jupyter-widgets/base",
            "top": null,
            "grid_column": null,
            "overflow_y": null,
            "overflow_x": null,
            "grid_auto_flow": null,
            "grid_area": null,
            "grid_template_columns": null,
            "flex": null,
            "_model_name": "LayoutModel",
            "justify_items": null,
            "grid_row": null,
            "max_height": null,
            "align_content": null,
            "visibility": null,
            "align_self": null,
            "height": null,
            "min_height": null,
            "padding": null,
            "grid_auto_rows": null,
            "grid_gap": null,
            "max_width": null,
            "order": null,
            "_view_module_version": "1.2.0",
            "grid_template_areas": null,
            "object_position": null,
            "object_fit": null,
            "grid_auto_columns": null,
            "margin": null,
            "display": null,
            "left": null
          }
        },
        "2d5bee363638457bb82dd0ebbc16fdf0": {
          "model_module": "@jupyter-widgets/controls",
          "model_name": "DescriptionStyleModel",
          "state": {
            "_view_name": "StyleView",
            "_model_name": "DescriptionStyleModel",
            "description_width": "",
            "_view_module": "@jupyter-widgets/base",
            "_model_module_version": "1.5.0",
            "_view_count": null,
            "_view_module_version": "1.2.0",
            "_model_module": "@jupyter-widgets/controls"
          }
        },
        "e1e0cf5d60bd43d2b5ae07be7e8daf32": {
          "model_module": "@jupyter-widgets/base",
          "model_name": "LayoutModel",
          "state": {
            "_view_name": "LayoutView",
            "grid_template_rows": null,
            "right": null,
            "justify_content": null,
            "_view_module": "@jupyter-widgets/base",
            "overflow": null,
            "_model_module_version": "1.2.0",
            "_view_count": null,
            "flex_flow": null,
            "width": null,
            "min_width": null,
            "border": null,
            "align_items": null,
            "bottom": null,
            "_model_module": "@jupyter-widgets/base",
            "top": null,
            "grid_column": null,
            "overflow_y": null,
            "overflow_x": null,
            "grid_auto_flow": null,
            "grid_area": null,
            "grid_template_columns": null,
            "flex": null,
            "_model_name": "LayoutModel",
            "justify_items": null,
            "grid_row": null,
            "max_height": null,
            "align_content": null,
            "visibility": null,
            "align_self": null,
            "height": null,
            "min_height": null,
            "padding": null,
            "grid_auto_rows": null,
            "grid_gap": null,
            "max_width": null,
            "order": null,
            "_view_module_version": "1.2.0",
            "grid_template_areas": null,
            "object_position": null,
            "object_fit": null,
            "grid_auto_columns": null,
            "margin": null,
            "display": null,
            "left": null
          }
        },
        "770de8f2115846ab97163ffcd24becf2": {
          "model_module": "@jupyter-widgets/controls",
          "model_name": "HBoxModel",
          "state": {
            "_view_name": "HBoxView",
            "_dom_classes": [],
            "_model_name": "HBoxModel",
            "_view_module": "@jupyter-widgets/controls",
            "_model_module_version": "1.5.0",
            "_view_count": null,
            "_view_module_version": "1.5.0",
            "box_style": "",
            "layout": "IPY_MODEL_118b3874a5f04105977093d83f518d38",
            "_model_module": "@jupyter-widgets/controls",
            "children": [
              "IPY_MODEL_566b9aa4702c429299674821ed50e6c5",
              "IPY_MODEL_e332d44b1a8540f5b8148961204b65bf"
            ]
          }
        },
        "118b3874a5f04105977093d83f518d38": {
          "model_module": "@jupyter-widgets/base",
          "model_name": "LayoutModel",
          "state": {
            "_view_name": "LayoutView",
            "grid_template_rows": null,
            "right": null,
            "justify_content": null,
            "_view_module": "@jupyter-widgets/base",
            "overflow": null,
            "_model_module_version": "1.2.0",
            "_view_count": null,
            "flex_flow": null,
            "width": null,
            "min_width": null,
            "border": null,
            "align_items": null,
            "bottom": null,
            "_model_module": "@jupyter-widgets/base",
            "top": null,
            "grid_column": null,
            "overflow_y": null,
            "overflow_x": null,
            "grid_auto_flow": null,
            "grid_area": null,
            "grid_template_columns": null,
            "flex": null,
            "_model_name": "LayoutModel",
            "justify_items": null,
            "grid_row": null,
            "max_height": null,
            "align_content": null,
            "visibility": null,
            "align_self": null,
            "height": null,
            "min_height": null,
            "padding": null,
            "grid_auto_rows": null,
            "grid_gap": null,
            "max_width": null,
            "order": null,
            "_view_module_version": "1.2.0",
            "grid_template_areas": null,
            "object_position": null,
            "object_fit": null,
            "grid_auto_columns": null,
            "margin": null,
            "display": null,
            "left": null
          }
        },
        "566b9aa4702c429299674821ed50e6c5": {
          "model_module": "@jupyter-widgets/controls",
          "model_name": "FloatProgressModel",
          "state": {
            "_view_name": "ProgressView",
            "style": "IPY_MODEL_8731290a27b14771a57daff88546f0ef",
            "_dom_classes": [],
            "description": "Downloading: 100%",
            "_model_name": "FloatProgressModel",
            "bar_style": "success",
            "max": 9096718,
            "_view_module": "@jupyter-widgets/controls",
            "_model_module_version": "1.5.0",
            "value": 9096718,
            "_view_count": null,
            "_view_module_version": "1.5.0",
            "orientation": "horizontal",
            "min": 0,
            "description_tooltip": null,
            "_model_module": "@jupyter-widgets/controls",
            "layout": "IPY_MODEL_d9fe4fef178d4bf58eb4186056066d92"
          }
        },
        "e332d44b1a8540f5b8148961204b65bf": {
          "model_module": "@jupyter-widgets/controls",
          "model_name": "HTMLModel",
          "state": {
            "_view_name": "HTMLView",
            "style": "IPY_MODEL_1b208211c70449d69ad5a077917ac15f",
            "_dom_classes": [],
            "description": "",
            "_model_name": "HTMLModel",
            "placeholder": "​",
            "_view_module": "@jupyter-widgets/controls",
            "_model_module_version": "1.5.0",
            "value": " 9.10M/9.10M [00:36&lt;00:00, 251kB/s]",
            "_view_count": null,
            "_view_module_version": "1.5.0",
            "description_tooltip": null,
            "_model_module": "@jupyter-widgets/controls",
            "layout": "IPY_MODEL_d613a5c7fe09465cbd8a25fc4686134a"
          }
        },
        "8731290a27b14771a57daff88546f0ef": {
          "model_module": "@jupyter-widgets/controls",
          "model_name": "ProgressStyleModel",
          "state": {
            "_view_name": "StyleView",
            "_model_name": "ProgressStyleModel",
            "description_width": "initial",
            "_view_module": "@jupyter-widgets/base",
            "_model_module_version": "1.5.0",
            "_view_count": null,
            "_view_module_version": "1.2.0",
            "bar_color": null,
            "_model_module": "@jupyter-widgets/controls"
          }
        },
        "d9fe4fef178d4bf58eb4186056066d92": {
          "model_module": "@jupyter-widgets/base",
          "model_name": "LayoutModel",
          "state": {
            "_view_name": "LayoutView",
            "grid_template_rows": null,
            "right": null,
            "justify_content": null,
            "_view_module": "@jupyter-widgets/base",
            "overflow": null,
            "_model_module_version": "1.2.0",
            "_view_count": null,
            "flex_flow": null,
            "width": null,
            "min_width": null,
            "border": null,
            "align_items": null,
            "bottom": null,
            "_model_module": "@jupyter-widgets/base",
            "top": null,
            "grid_column": null,
            "overflow_y": null,
            "overflow_x": null,
            "grid_auto_flow": null,
            "grid_area": null,
            "grid_template_columns": null,
            "flex": null,
            "_model_name": "LayoutModel",
            "justify_items": null,
            "grid_row": null,
            "max_height": null,
            "align_content": null,
            "visibility": null,
            "align_self": null,
            "height": null,
            "min_height": null,
            "padding": null,
            "grid_auto_rows": null,
            "grid_gap": null,
            "max_width": null,
            "order": null,
            "_view_module_version": "1.2.0",
            "grid_template_areas": null,
            "object_position": null,
            "object_fit": null,
            "grid_auto_columns": null,
            "margin": null,
            "display": null,
            "left": null
          }
        },
        "1b208211c70449d69ad5a077917ac15f": {
          "model_module": "@jupyter-widgets/controls",
          "model_name": "DescriptionStyleModel",
          "state": {
            "_view_name": "StyleView",
            "_model_name": "DescriptionStyleModel",
            "description_width": "",
            "_view_module": "@jupyter-widgets/base",
            "_model_module_version": "1.5.0",
            "_view_count": null,
            "_view_module_version": "1.2.0",
            "_model_module": "@jupyter-widgets/controls"
          }
        },
        "d613a5c7fe09465cbd8a25fc4686134a": {
          "model_module": "@jupyter-widgets/base",
          "model_name": "LayoutModel",
          "state": {
            "_view_name": "LayoutView",
            "grid_template_rows": null,
            "right": null,
            "justify_content": null,
            "_view_module": "@jupyter-widgets/base",
            "overflow": null,
            "_model_module_version": "1.2.0",
            "_view_count": null,
            "flex_flow": null,
            "width": null,
            "min_width": null,
            "border": null,
            "align_items": null,
            "bottom": null,
            "_model_module": "@jupyter-widgets/base",
            "top": null,
            "grid_column": null,
            "overflow_y": null,
            "overflow_x": null,
            "grid_auto_flow": null,
            "grid_area": null,
            "grid_template_columns": null,
            "flex": null,
            "_model_name": "LayoutModel",
            "justify_items": null,
            "grid_row": null,
            "max_height": null,
            "align_content": null,
            "visibility": null,
            "align_self": null,
            "height": null,
            "min_height": null,
            "padding": null,
            "grid_auto_rows": null,
            "grid_gap": null,
            "max_width": null,
            "order": null,
            "_view_module_version": "1.2.0",
            "grid_template_areas": null,
            "object_position": null,
            "object_fit": null,
            "grid_auto_columns": null,
            "margin": null,
            "display": null,
            "left": null
          }
        }
      }
    }
  },
  "cells": [
    {
      "cell_type": "markdown",
      "metadata": {
        "id": "TIO0UzNsgy-4"
      },
      "source": [
        "# KeyPhrase Extraction using MMR"
      ]
    },
    {
      "cell_type": "code",
      "metadata": {
        "colab": {
          "base_uri": "https://localhost:8080/"
        },
        "id": "FOEdSZj5f0Zi",
        "outputId": "e299a95e-da78-4fbe-da6f-dc6621276cb8"
      },
      "source": [
        "pip install transformers"
      ],
      "execution_count": null,
      "outputs": [
        {
          "output_type": "stream",
          "text": [
            "Collecting transformers\n",
            "\u001b[?25l  Downloading https://files.pythonhosted.org/packages/fd/1a/41c644c963249fd7f3836d926afa1e3f1cc234a1c40d80c5f03ad8f6f1b2/transformers-4.8.2-py3-none-any.whl (2.5MB)\n",
            "\u001b[K     |████████████████████████████████| 2.5MB 5.2MB/s \n",
            "\u001b[?25hCollecting sacremoses\n",
            "\u001b[?25l  Downloading https://files.pythonhosted.org/packages/75/ee/67241dc87f266093c533a2d4d3d69438e57d7a90abb216fa076e7d475d4a/sacremoses-0.0.45-py3-none-any.whl (895kB)\n",
            "\u001b[K     |████████████████████████████████| 901kB 30.8MB/s \n",
            "\u001b[?25hRequirement already satisfied: importlib-metadata; python_version < \"3.8\" in /usr/local/lib/python3.7/dist-packages (from transformers) (4.6.0)\n",
            "Collecting huggingface-hub==0.0.12\n",
            "  Downloading https://files.pythonhosted.org/packages/2f/ee/97e253668fda9b17e968b3f97b2f8e53aa0127e8807d24a547687423fe0b/huggingface_hub-0.0.12-py3-none-any.whl\n",
            "Requirement already satisfied: packaging in /usr/local/lib/python3.7/dist-packages (from transformers) (20.9)\n",
            "Requirement already satisfied: pyyaml in /usr/local/lib/python3.7/dist-packages (from transformers) (3.13)\n",
            "Requirement already satisfied: tqdm>=4.27 in /usr/local/lib/python3.7/dist-packages (from transformers) (4.41.1)\n",
            "Requirement already satisfied: regex!=2019.12.17 in /usr/local/lib/python3.7/dist-packages (from transformers) (2019.12.20)\n",
            "Collecting tokenizers<0.11,>=0.10.1\n",
            "\u001b[?25l  Downloading https://files.pythonhosted.org/packages/d4/e2/df3543e8ffdab68f5acc73f613de9c2b155ac47f162e725dcac87c521c11/tokenizers-0.10.3-cp37-cp37m-manylinux_2_5_x86_64.manylinux1_x86_64.manylinux_2_12_x86_64.manylinux2010_x86_64.whl (3.3MB)\n",
            "\u001b[K     |████████████████████████████████| 3.3MB 31.2MB/s \n",
            "\u001b[?25hRequirement already satisfied: numpy>=1.17 in /usr/local/lib/python3.7/dist-packages (from transformers) (1.19.5)\n",
            "Requirement already satisfied: requests in /usr/local/lib/python3.7/dist-packages (from transformers) (2.23.0)\n",
            "Requirement already satisfied: filelock in /usr/local/lib/python3.7/dist-packages (from transformers) (3.0.12)\n",
            "Requirement already satisfied: click in /usr/local/lib/python3.7/dist-packages (from sacremoses->transformers) (7.1.2)\n",
            "Requirement already satisfied: six in /usr/local/lib/python3.7/dist-packages (from sacremoses->transformers) (1.15.0)\n",
            "Requirement already satisfied: joblib in /usr/local/lib/python3.7/dist-packages (from sacremoses->transformers) (1.0.1)\n",
            "Requirement already satisfied: typing-extensions>=3.6.4; python_version < \"3.8\" in /usr/local/lib/python3.7/dist-packages (from importlib-metadata; python_version < \"3.8\"->transformers) (3.7.4.3)\n",
            "Requirement already satisfied: zipp>=0.5 in /usr/local/lib/python3.7/dist-packages (from importlib-metadata; python_version < \"3.8\"->transformers) (3.4.1)\n",
            "Requirement already satisfied: pyparsing>=2.0.2 in /usr/local/lib/python3.7/dist-packages (from packaging->transformers) (2.4.7)\n",
            "Requirement already satisfied: idna<3,>=2.5 in /usr/local/lib/python3.7/dist-packages (from requests->transformers) (2.10)\n",
            "Requirement already satisfied: certifi>=2017.4.17 in /usr/local/lib/python3.7/dist-packages (from requests->transformers) (2021.5.30)\n",
            "Requirement already satisfied: urllib3!=1.25.0,!=1.25.1,<1.26,>=1.21.1 in /usr/local/lib/python3.7/dist-packages (from requests->transformers) (1.24.3)\n",
            "Requirement already satisfied: chardet<4,>=3.0.2 in /usr/local/lib/python3.7/dist-packages (from requests->transformers) (3.0.4)\n",
            "Installing collected packages: sacremoses, huggingface-hub, tokenizers, transformers\n",
            "Successfully installed huggingface-hub-0.0.12 sacremoses-0.0.45 tokenizers-0.10.3 transformers-4.8.2\n"
          ],
          "name": "stdout"
        }
      ]
    },
    {
      "cell_type": "code",
      "metadata": {
        "id": "mbZsdxZIf-OA"
      },
      "source": [
        "from sklearn.feature_extraction.text import CountVectorizer\n",
        "import spacy\n",
        "from transformers import AutoModel, AutoTokenizer\n",
        "from sklearn.metrics.pairwise import cosine_similarity\n",
        "import nltk\n",
        "from nltk.corpus import stopwords\n",
        "import re\n",
        "import numpy as np\n",
        "import pandas as pd\n",
        "from sklearn.decomposition import PCA\n",
        "import seaborn as sns\n",
        "import matplotlib.pyplot as plt"
      ],
      "execution_count": null,
      "outputs": []
    },
    {
      "cell_type": "code",
      "metadata": {
        "id": "ndpqSQ7lK-Qo"
      },
      "source": [
        "python -m spacy download en_core_web_sm"
      ],
      "execution_count": null,
      "outputs": []
    },
    {
      "cell_type": "markdown",
      "metadata": {
        "id": "YKBSmrbyhEnY"
      },
      "source": [
        "## Initialize"
      ]
    },
    {
      "cell_type": "code",
      "metadata": {
        "colab": {
          "base_uri": "https://localhost:8080/"
        },
        "id": "2ULBWwx_gSUy",
        "outputId": "fe418f1c-e496-4ec6-c5d7-9fb32f9ce08b"
      },
      "source": [
        "\n",
        "text = \"\"\"\n",
        "         Supervised learning is the machine learning task of \n",
        "         learning a function that maps an input to an output based \n",
        "         on example input-output pairs.[1] It infers a function \n",
        "         from labeled training data consisting of a set of \n",
        "         training examples.[2] In supervised learning, each \n",
        "         example is a pair consisting of an input object \n",
        "         (typically a vector) and a desired output value (also \n",
        "         called the supervisory signal). A supervised learning \n",
        "         algorithm analyzes the training data and produces an \n",
        "         inferred function, which can be used for mapping new \n",
        "         examples. An optimal scenario will allow for the algorithm \n",
        "         to correctly determine the class labels for unseen \n",
        "         instances. This requires the learning algorithm to  \n",
        "         generalize from the training data to unseen situations \n",
        "         in a 'reasonable' way (see inductive bias).\n",
        "      \"\"\"\n",
        "\n",
        "#Number of top keywords\n",
        "top_k = 5\n",
        "\n",
        "#To get n_grams\n",
        "# n_gram_range = (2, 3)\n",
        "# stop_words = \"english\"\n",
        "nltk.download('stopwords')\n",
        "\n",
        "#STOPWORDS\n",
        "STOPWORDS = set(list(stopwords.words(\"english\")))\n",
        "NGRAM_RANGE = (2, 3)\n",
        "\n",
        "#load spacy and get doc from text\n",
        "nlp = spacy.load('en_core_web_sm')\n",
        "doc = nlp(text)\n",
        "\n",
        "is_stop_word = lambda token: token.is_stop or token.lower_ in STOPWORDS or token.lemma_ in STOPWORDS"
      ],
      "execution_count": null,
      "outputs": [
        {
          "output_type": "stream",
          "text": [
            "[nltk_data] Downloading package stopwords to /root/nltk_data...\n",
            "[nltk_data]   Unzipping corpora/stopwords.zip.\n"
          ],
          "name": "stdout"
        }
      ]
    },
    {
      "cell_type": "markdown",
      "metadata": {
        "id": "jbfvK6SKhJXK"
      },
      "source": [
        "## Preprocess Steps"
      ]
    },
    {
      "cell_type": "code",
      "metadata": {
        "id": "_6JvFQ80hOqi"
      },
      "source": [
        "# To clean the text sentences\n",
        "def clean_token_text(token_text):\n",
        "    pattern = r'[^A-Za-z0-9]\\Z'\n",
        "    token_text = re.sub(pattern, '', token_text)\n",
        "    return token_text"
      ],
      "execution_count": null,
      "outputs": []
    },
    {
      "cell_type": "markdown",
      "metadata": {
        "id": "0DNg1q3fhZmD"
      },
      "source": [
        "##Get candidate keywords"
      ]
    },
    {
      "cell_type": "code",
      "metadata": {
        "colab": {
          "base_uri": "https://localhost:8080/"
        },
        "id": "2EaXiUqwhd5Z",
        "outputId": "2258bd7d-3a1f-414f-d137-dd83fa4d2a28"
      },
      "source": [
        "# Extract candidate words/phrases using n_grams\n",
        "def extract_all_candidates_from_text():\n",
        "    count = CountVectorizer(ngram_range=NGRAM_RANGE, stop_words=STOPWORDS).fit([text])\n",
        "    all_candidates = count.get_feature_names()\n",
        "    return all_candidates\n",
        "\n",
        "#Extract only noun phrase chunks\n",
        "def extract_noun_phrases():\n",
        "    np_candidates = set()\n",
        "    for noun_chunk in doc.noun_chunks:\n",
        "        chunk_text = noun_chunk.text.strip().replace(\"\\n\", \"\").lower()\n",
        "        chunk_text_tokens = chunk_text.split()\n",
        "        chunk_text_tokens = [clean_token_text(token_text) for token_text in chunk_text_tokens\n",
        "                             if token_text not in STOPWORDS]\n",
        "        #check for stop words using lambda 'is_stop_word'\n",
        "        if len(chunk_text_tokens) > 0:\n",
        "            np_candidates.add(' '.join(chunk_text_tokens))\n",
        "    return np_candidates\n",
        "\n",
        "#Extract only noun tokens\n",
        "def extract_single_nouns():\n",
        "    nouns = set()\n",
        "    for token in doc:\n",
        "        token_text = clean_token_text(token.text)\n",
        "        is_stop = is_stop_word(token)\n",
        "        if token.pos_ == \"NOUN\" and len(token_text) > 1 and not is_stop:\n",
        "            nouns.add(token_text)\n",
        "    return nouns\n",
        "\n",
        "#extract noun and noun phrase from the text\n",
        "def create_candidate():\n",
        "    nouns = extract_single_nouns()\n",
        "    noun_phrases = extract_noun_phrases()\n",
        "    #get union of nouns and noun-phrases\n",
        "    all_nouns = nouns.union(noun_phrases)\n",
        "    return all_nouns\n",
        "\n",
        "#extract all n_grams from the text\n",
        "all_candidates = extract_all_candidates_from_text()\n",
        "print(\"All n_gram keywords: \", all_candidates)\n",
        "\n",
        "#extract all noun and noun phrase from the text\n",
        "all_nouns = create_candidate()\n",
        "print(\"All nouns & noun phrase keywords: \", all_nouns)\n",
        "\n",
        "#filter only those n_grams which contains noun or noun-phrase\n",
        "filtered_candidates = list(filter(lambda candidate : candidate in all_nouns, all_candidates))\n",
        "print(\"Final keywords: \", filtered_candidates)"
      ],
      "execution_count": null,
      "outputs": [
        {
          "output_type": "stream",
          "text": [
            "All n_gram keywords:  ['algorithm analyzes', 'algorithm analyzes training', 'algorithm correctly', 'algorithm correctly determine', 'algorithm generalize', 'algorithm generalize training', 'allow algorithm', 'allow algorithm correctly', 'also called', 'also called supervisory', 'analyzes training', 'analyzes training data', 'based example', 'based example input', 'called supervisory', 'called supervisory signal', 'class labels', 'class labels unseen', 'consisting input', 'consisting input object', 'consisting set', 'consisting set training', 'correctly determine', 'correctly determine class', 'data consisting', 'data consisting set', 'data produces', 'data produces inferred', 'data unseen', 'data unseen situations', 'desired output', 'desired output value', 'determine class', 'determine class labels', 'example input', 'example input output', 'example pair', 'example pair consisting', 'examples optimal', 'examples optimal scenario', 'examples supervised', 'examples supervised learning', 'function labeled', 'function labeled training', 'function maps', 'function maps input', 'function used', 'function used mapping', 'generalize training', 'generalize training data', 'inductive bias', 'inferred function', 'inferred function used', 'infers function', 'infers function labeled', 'input object', 'input object typically', 'input output', 'input output based', 'input output pairs', 'instances requires', 'instances requires learning', 'labeled training', 'labeled training data', 'labels unseen', 'labels unseen instances', 'learning algorithm', 'learning algorithm analyzes', 'learning algorithm generalize', 'learning example', 'learning example pair', 'learning function', 'learning function maps', 'learning machine', 'learning machine learning', 'learning task', 'learning task learning', 'machine learning', 'machine learning task', 'mapping new', 'mapping new examples', 'maps input', 'maps input output', 'new examples', 'new examples optimal', 'object typically', 'object typically vector', 'optimal scenario', 'optimal scenario allow', 'output based', 'output based example', 'output pairs', 'output pairs infers', 'output value', 'output value also', 'pair consisting', 'pair consisting input', 'pairs infers', 'pairs infers function', 'produces inferred', 'produces inferred function', 'reasonable way', 'reasonable way see', 'requires learning', 'requires learning algorithm', 'scenario allow', 'scenario allow algorithm', 'see inductive', 'see inductive bias', 'set training', 'set training examples', 'signal supervised', 'signal supervised learning', 'situations reasonable', 'situations reasonable way', 'supervised learning', 'supervised learning algorithm', 'supervised learning example', 'supervised learning machine', 'supervisory signal', 'supervisory signal supervised', 'task learning', 'task learning function', 'training data', 'training data consisting', 'training data produces', 'training data unseen', 'training examples', 'training examples supervised', 'typically vector', 'typically vector desired', 'unseen instances', 'unseen instances requires', 'unseen situations', 'unseen situations reasonable', 'used mapping', 'used mapping new', 'value also', 'value also called', 'vector desired', 'vector desired output', 'way see', 'way see inductive']\n",
            "All nouns & noun phrase keywords:  {'input object', 'unseen instances', 'input', 'example', 'machine', 'training', 'data', 'algorithm', 'pair', \"'reasonable way\", 'consisting', 'class labels', 'class', 'way', 'value', 'desired output value', 'set', 'object', 'labeled training data', '(typically vector', 'inductive bias', 'examples', 'inferred function', 'optimal scenario', 'scenario', 'new examples', 'output', 'vector', 'signal', 'unseen situations', 'function', 'machine learning task', 'instances', 'situations', 'training data', 'learning', 'bias', 'supervised learning', 'task', 'learning algorithm', 'labels'}\n",
            "Final keywords:  ['class labels', 'desired output value', 'inductive bias', 'inferred function', 'input object', 'labeled training data', 'learning algorithm', 'machine learning task', 'new examples', 'optimal scenario', 'supervised learning', 'training data', 'unseen instances', 'unseen situations']\n"
          ],
          "name": "stdout"
        }
      ]
    },
    {
      "cell_type": "markdown",
      "metadata": {
        "id": "l3wrLqIPhkVI"
      },
      "source": [
        "##Build Model and Get Embeddings"
      ]
    },
    {
      "cell_type": "code",
      "metadata": {
        "colab": {
          "base_uri": "https://localhost:8080/",
          "height": 369,
          "referenced_widgets": [
            "5dfde7435bcc4fbf81bbcbfcba3697e3",
            "5d4b6a5abc3b4f418f5b20a8b3d2f838",
            "939a42dcc27c43bb8d7848cdc51b6b39",
            "4584ae0ec357432d97a6ce481537092e",
            "9a77cec0dcb84bd4a7ca87950aa5560e",
            "e406e4c4dfd848bfa9e7aabd3bb5d577",
            "b69d1a82c3fd445d924a1a82a2d07b07",
            "b6003fc970b54815820e9ad305b6e33c",
            "10a075ae73904f3aa8512894aba683c2",
            "ce8e7d2a7fc743508c90308846ec1e11",
            "7c18edd5d133462c8e0bd63b8e2102c9",
            "69f0622c44484361a8022838b4b56fe1",
            "d0fc797e868442efa9830cca366bb670",
            "befe20867c0a4daca0a5e29b6cf3ead2",
            "ace2e40457094e01a6d7c3377bade80f",
            "8d7e04e80e5245a0a23c1f88f565df52",
            "f4653eae96b24349b042af9c6194ff54",
            "3ee1af17db24462986c4ccd7bb571535",
            "653166de73bd40c08d6bdf34b8e9a59d",
            "f180b3dccb584159adfbf66162204801",
            "bb29a5e696224f01b832c87a7b38ca13",
            "97f125fef1f34994ae41de729522dce6",
            "2d5bee363638457bb82dd0ebbc16fdf0",
            "e1e0cf5d60bd43d2b5ae07be7e8daf32",
            "770de8f2115846ab97163ffcd24becf2",
            "118b3874a5f04105977093d83f518d38",
            "566b9aa4702c429299674821ed50e6c5",
            "e332d44b1a8540f5b8148961204b65bf",
            "8731290a27b14771a57daff88546f0ef",
            "d9fe4fef178d4bf58eb4186056066d92",
            "1b208211c70449d69ad5a077917ac15f",
            "d613a5c7fe09465cbd8a25fc4686134a"
          ]
        },
        "id": "V3lL43xYhpep",
        "outputId": "8e1e83f1-b61e-40a1-bb1e-42d62c8d3ee2"
      },
      "source": [
        "#Build model and get embeddings from it.\n",
        "def build_model(model_name, texts):\n",
        "    model = AutoModel.from_pretrained(model_name)\n",
        "    tokenizer = AutoTokenizer.from_pretrained(model_name)\n",
        "    texts_tokens = tokenizer(texts, padding=True, return_tensors=\"pt\")\n",
        "    texts_embeddings = model(**texts_tokens)[\"pooler_output\"]\n",
        "    print(texts_embeddings.shape)\n",
        "    return texts_embeddings\n",
        "\n",
        "model_name = \"xlm-roberta-base\"\n",
        "\n",
        "#get embeddings for filtered candidates and text\n",
        "candidates_embeddings = build_model(model_name, filtered_candidates)\n",
        "text_embeddings = build_model(model_name, [text])\n",
        "\n",
        "#detach embeddings and get numpy\n",
        "candidate_embeddings = candidates_embeddings.detach().numpy()\n",
        "text_embedding = text_embeddings.detach().numpy()"
      ],
      "execution_count": null,
      "outputs": [
        {
          "output_type": "display_data",
          "data": {
            "application/vnd.jupyter.widget-view+json": {
              "model_id": "5dfde7435bcc4fbf81bbcbfcba3697e3",
              "version_minor": 0,
              "version_major": 2
            },
            "text/plain": [
              "HBox(children=(FloatProgress(value=0.0, description='Downloading', max=512.0, style=ProgressStyle(description_…"
            ]
          },
          "metadata": {
            "tags": []
          }
        },
        {
          "output_type": "stream",
          "text": [
            "\n"
          ],
          "name": "stdout"
        },
        {
          "output_type": "display_data",
          "data": {
            "application/vnd.jupyter.widget-view+json": {
              "model_id": "10a075ae73904f3aa8512894aba683c2",
              "version_minor": 0,
              "version_major": 2
            },
            "text/plain": [
              "HBox(children=(FloatProgress(value=0.0, description='Downloading', max=1115590446.0, style=ProgressStyle(descr…"
            ]
          },
          "metadata": {
            "tags": []
          }
        },
        {
          "output_type": "stream",
          "text": [
            "\n"
          ],
          "name": "stdout"
        },
        {
          "output_type": "stream",
          "text": [
            "Some weights of the model checkpoint at xlm-roberta-base were not used when initializing XLMRobertaModel: ['lm_head.dense.weight', 'lm_head.bias', 'lm_head.layer_norm.weight', 'lm_head.decoder.weight', 'lm_head.layer_norm.bias', 'lm_head.dense.bias']\n",
            "- This IS expected if you are initializing XLMRobertaModel from the checkpoint of a model trained on another task or with another architecture (e.g. initializing a BertForSequenceClassification model from a BertForPreTraining model).\n",
            "- This IS NOT expected if you are initializing XLMRobertaModel from the checkpoint of a model that you expect to be exactly identical (initializing a BertForSequenceClassification model from a BertForSequenceClassification model).\n"
          ],
          "name": "stderr"
        },
        {
          "output_type": "display_data",
          "data": {
            "application/vnd.jupyter.widget-view+json": {
              "model_id": "f4653eae96b24349b042af9c6194ff54",
              "version_minor": 0,
              "version_major": 2
            },
            "text/plain": [
              "HBox(children=(FloatProgress(value=0.0, description='Downloading', max=5069051.0, style=ProgressStyle(descript…"
            ]
          },
          "metadata": {
            "tags": []
          }
        },
        {
          "output_type": "stream",
          "text": [
            "\n"
          ],
          "name": "stdout"
        },
        {
          "output_type": "display_data",
          "data": {
            "application/vnd.jupyter.widget-view+json": {
              "model_id": "770de8f2115846ab97163ffcd24becf2",
              "version_minor": 0,
              "version_major": 2
            },
            "text/plain": [
              "HBox(children=(FloatProgress(value=0.0, description='Downloading', max=9096718.0, style=ProgressStyle(descript…"
            ]
          },
          "metadata": {
            "tags": []
          }
        },
        {
          "output_type": "stream",
          "text": [
            "\n",
            "torch.Size([14, 768])\n"
          ],
          "name": "stdout"
        },
        {
          "output_type": "stream",
          "text": [
            "Some weights of the model checkpoint at xlm-roberta-base were not used when initializing XLMRobertaModel: ['lm_head.dense.weight', 'lm_head.bias', 'lm_head.layer_norm.weight', 'lm_head.decoder.weight', 'lm_head.layer_norm.bias', 'lm_head.dense.bias']\n",
            "- This IS expected if you are initializing XLMRobertaModel from the checkpoint of a model trained on another task or with another architecture (e.g. initializing a BertForSequenceClassification model from a BertForPreTraining model).\n",
            "- This IS NOT expected if you are initializing XLMRobertaModel from the checkpoint of a model that you expect to be exactly identical (initializing a BertForSequenceClassification model from a BertForSequenceClassification model).\n"
          ],
          "name": "stderr"
        },
        {
          "output_type": "stream",
          "text": [
            "torch.Size([1, 768])\n"
          ],
          "name": "stdout"
        }
      ]
    },
    {
      "cell_type": "markdown",
      "metadata": {
        "id": "DFZx64FNhtAl"
      },
      "source": [
        "##Algo: MMR, Cosine Similarity"
      ]
    },
    {
      "cell_type": "code",
      "metadata": {
        "id": "UeYzYqlPhz3S"
      },
      "source": [
        "#consine similarity between candidates embeddings and text embeddings, find top keywords\n",
        "\n",
        "#Just select top k candidates keywords\n",
        "def select_topn_candidates():\n",
        "    distances = cosine_similarity(text_embedding, candidate_embeddings)\n",
        "    keywords = [filtered_candidates[index] for index in distances.argsort()[0][-top_k:]]\n",
        "    print(keywords)\n",
        "    return keywords\n",
        "\n",
        "\n",
        "# Use MMR(Maximal margin relevance) score to get top keywords, it will have better diversity and relevance\n",
        "def mmr(text_emb, keywords, keyword_embs, beta=0.55, top_n=10, alias_threshold=0.8):\n",
        "    \"\"\"Implementation of Maximal Marginal Relevance to get top N relevant keywords to text\n",
        "    Args:\n",
        "        text_emb: embedding of original text (from where keywords are extracted)\n",
        "        keywords: keywords (noun phrases) selected from text from where we have to choose broad and relevant keywords\n",
        "        keyword_embs: embeddings of given keywords\n",
        "        beta: hyper-parameter for MMR score calculations (controls tradeoff between informativeness and diversity)\n",
        "        top_n: number of top keywords to extract (will return less keywords if len(keywords) < top_n)\n",
        "        alias_threshold: threshold for cosine similarities (controls alias keyword pairs assignment)\n",
        "    Returns:\n",
        "        top_keywords: selected top keywords\n",
        "        relevance: relevance values for these keywords (relevance of keyword to original text)\n",
        "        aliases_keywords: aliases for each keyword\n",
        "    \"\"\"\n",
        "    # calculate similarities of keywords with text and between keywords\n",
        "    text_sims = cosine_similarity(keyword_embs, text_emb)\n",
        "    keyword_sims = cosine_similarity(keyword_embs)\n",
        "\n",
        "    # normalize cosine similarities\n",
        "    text_sims_norm = standard_normalize_cosine_similarities(text_sims)\n",
        "    keyword_sims_norm = max_normalize_cosine_similarities_pairwise(keyword_sims)\n",
        "\n",
        "    # keep indices of selected and unselected keywords in list\n",
        "    selected_keyword_indices = []\n",
        "    unselected_keyword_indices = list(range(len(keywords)))\n",
        "\n",
        "    # find the most similar keyword (using original cosine similarities)\n",
        "    best_idx = np.argmax(text_sims)\n",
        "    selected_keyword_indices.append(best_idx)\n",
        "    unselected_keyword_indices.remove(best_idx)\n",
        "\n",
        "    # do top_n - 1 cycle to select top N keywords\n",
        "    for _ in range(min(len(keywords), top_n) - 1):\n",
        "        unselected_keyword_distances_to_text = text_sims_norm[unselected_keyword_indices, :]\n",
        "        unselected_keyword_distances_pairwise = keyword_sims_norm[unselected_keyword_indices][:,\n",
        "                                                selected_keyword_indices]\n",
        "\n",
        "        # if dimension of keywords distances is 1 we add additional axis to the end\n",
        "        if unselected_keyword_distances_pairwise.ndim == 1:\n",
        "            unselected_keyword_distances_pairwise = np.expand_dims(unselected_keyword_distances_pairwise, axis=1)\n",
        "\n",
        "        # find new candidate with\n",
        "        idx = int(np.argmax(\n",
        "            beta * unselected_keyword_distances_to_text - (1 - beta) * np.max(unselected_keyword_distances_pairwise,\n",
        "                                                                              axis=1).reshape(-1, 1)))\n",
        "        best_idx = unselected_keyword_indices[idx]\n",
        "\n",
        "        # select new best keyword and update selected/unselected keyword indices list\n",
        "        selected_keyword_indices.append(best_idx)\n",
        "        unselected_keyword_indices.remove(best_idx)\n",
        "\n",
        "    # calculate relevance using original (not normalized) cosine similarities of keywords to text\n",
        "    relevance = max_normalize_cosine_similarities(text_sims[selected_keyword_indices]).tolist()\n",
        "    aliases_keywords = get_alias_keywords(keyword_sims[selected_keyword_indices, :], keywords, alias_threshold)\n",
        "\n",
        "    top_keywords = [keywords[idx] for idx in selected_keyword_indices]\n",
        "\n",
        "    # for showing vectors in space\n",
        "    embs = keyword_embs + text_emb\n",
        "    mask = []\n",
        "\n",
        "    plot(embs, keywords, mask)\n",
        "\n",
        "    return top_keywords, relevance, aliases_keywords"
      ],
      "execution_count": null,
      "outputs": []
    },
    {
      "cell_type": "markdown",
      "metadata": {
        "id": "kNgXO1YgiCL2"
      },
      "source": [
        "##Normalize"
      ]
    },
    {
      "cell_type": "code",
      "metadata": {
        "id": "scxM39PeiFDw"
      },
      "source": [
        "def standard_normalize_cosine_similarities(cosine_similarities):\n",
        "    \"\"\"Normalized cosine similarities\"\"\"\n",
        "    # normalize into 0-1 range\n",
        "    cosine_sims_norm = (cosine_similarities - np.min(cosine_similarities)) / (\n",
        "            np.max(cosine_similarities) - np.min(cosine_similarities))\n",
        "\n",
        "    # standardize and shift by 0.5\n",
        "    cosine_sims_norm = 0.5 + (cosine_sims_norm - np.mean(cosine_sims_norm)) / np.std(cosine_sims_norm)\n",
        "\n",
        "    return cosine_sims_norm\n",
        "\n",
        "\n",
        "def max_normalize_cosine_similarities_pairwise(cosine_similarities):\n",
        "    \"\"\"Normalized cosine similarities of pairs which is 2d matrix of pairwise cosine similarities\"\"\"\n",
        "    cosine_sims_norm = np.copy(cosine_similarities)\n",
        "    np.fill_diagonal(cosine_sims_norm, np.NaN)\n",
        "\n",
        "    # normalize into 0-1 range\n",
        "    cosine_sims_norm = (cosine_similarities - np.nanmin(cosine_similarities, axis=0)) / (\n",
        "            np.nanmax(cosine_similarities, axis=0) - np.nanmin(cosine_similarities, axis=0))\n",
        "\n",
        "    # standardize shift by 0.5\n",
        "    cosine_sims_norm = \\\n",
        "        0.5 + (cosine_sims_norm - np.nanmean(cosine_sims_norm, axis=0)) / np.nanstd(cosine_sims_norm, axis=0)\n",
        "\n",
        "    return cosine_sims_norm\n",
        "\n",
        "\n",
        "def max_normalize_cosine_similarities(cosine_similarities):\n",
        "    \"\"\"Normalize cosine similarities using max normalization approach\"\"\"\n",
        "    return 1 / np.max(cosine_similarities) * cosine_similarities.squeeze(axis=1)\n",
        "\n",
        "def get_alias_keywords(keyword_sims, keywords, threshold):\n",
        "    \"\"\"Find keywords in selected list that are aliases (very similar) to each other\"\"\"\n",
        "    similarities = np.nan_to_num(keyword_sims, 0)\n",
        "    sorted_similarities = np.flip(np.argsort(similarities), 1)\n",
        "\n",
        "    aliases = []\n",
        "    for idx, item in enumerate(sorted_similarities):\n",
        "        alias_for_item = []\n",
        "        for i in item:\n",
        "            if similarities[idx, i] >= threshold:\n",
        "                alias_for_item.append(keywords[i])\n",
        "            else:\n",
        "                break\n",
        "        aliases.append(alias_for_item)\n",
        "\n",
        "    return aliases"
      ],
      "execution_count": null,
      "outputs": []
    },
    {
      "cell_type": "markdown",
      "metadata": {
        "id": "4ph4IrJ9iTOb"
      },
      "source": [
        "##Plot"
      ]
    },
    {
      "cell_type": "code",
      "metadata": {
        "id": "zdUnXeXtiWLR"
      },
      "source": [
        "def plot(embs, texts, mask):\n",
        "    pca = PCA(n_components=2)\n",
        "    vectors_2d = pca.fit_transform(embs)\n",
        "\n",
        "    data = pd.DataFrame(\n",
        "        {'v1': vectors_2d[:, 0],\n",
        "         'v2': vectors_2d[:, 1],\n",
        "         #'type': mask\n",
        "         }\n",
        "    )\n",
        "\n",
        "    ax = sns.scatterplot(x=data.v1, y=data.v2) #style=data.type, hue=data.type\n",
        "\n",
        "    for i, text in enumerate(zip(texts)):\n",
        "        if len(text) > 20:\n",
        "            text = text[:20] + '...'\n",
        "        ax.annotate(text, (vectors_2d[i, 0], vectors_2d[i, 1]))\n",
        "\n",
        "    plt.show()"
      ],
      "execution_count": null,
      "outputs": []
    },
    {
      "cell_type": "markdown",
      "metadata": {
        "id": "VFthEBmribHO"
      },
      "source": [
        "##Run Algo"
      ]
    },
    {
      "cell_type": "code",
      "metadata": {
        "colab": {
          "base_uri": "https://localhost:8080/",
          "height": 350
        },
        "id": "SMETCsm5ikf5",
        "outputId": "72a7b702-b0cb-43ea-8388-49caa60521bd"
      },
      "source": [
        "#Trigger keyPhrase extraction algo\n",
        "top_keywords, relevance, aliases_keywords = mmr(text_embedding, filtered_candidates, candidate_embeddings)\n",
        "print(top_keywords)\n",
        "print(relevance)\n",
        "print(aliases_keywords)"
      ],
      "execution_count": null,
      "outputs": [
        {
          "output_type": "display_data",
          "data": {
            "image/png": "[encoded data removed]",
            "text/plain": [
              "<Figure size 432x288 with 1 Axes>"
            ]
          },
          "metadata": {
            "tags": [],
            "needs_background": "light"
          }
        },
        {
          "output_type": "stream",
          "text": [
            "['input object', 'unseen situations', 'new examples', 'learning algorithm', 'training data', 'inferred function', 'class labels', 'inductive bias', 'machine learning task', 'labeled training data']\n",
            "[1.0, 0.9993218779563904, 0.9996016621589661, 0.9995811581611633, 0.9995240569114685, 0.999370276927948, 0.9993978142738342, 0.9993448853492737, 0.9993128776550293, 0.9992681741714478]\n",
            "[['input object', 'new examples', 'training data', 'inductive bias', 'learning algorithm', 'class labels', 'labeled training data', 'inferred function', 'optimal scenario', 'machine learning task', 'supervised learning', 'unseen instances', 'desired output value', 'unseen situations'], ['unseen situations', 'unseen instances', 'optimal scenario', 'input object', 'inductive bias', 'training data', 'learning algorithm', 'new examples', 'class labels', 'labeled training data', 'supervised learning', 'machine learning task', 'inferred function', 'desired output value'], ['new examples', 'training data', 'labeled training data', 'learning algorithm', 'class labels', 'supervised learning', 'machine learning task', 'inferred function', 'inductive bias', 'desired output value', 'input object', 'optimal scenario', 'unseen instances', 'unseen situations'], ['learning algorithm', 'training data', 'new examples', 'machine learning task', 'supervised learning', 'labeled training data', 'class labels', 'optimal scenario', 'inductive bias', 'input object', 'inferred function', 'desired output value', 'unseen instances', 'unseen situations'], ['training data', 'labeled training data', 'new examples', 'learning algorithm', 'supervised learning', 'class labels', 'inductive bias', 'optimal scenario', 'input object', 'machine learning task', 'desired output value', 'inferred function', 'unseen instances', 'unseen situations'], ['inferred function', 'desired output value', 'new examples', 'machine learning task', 'labeled training data', 'supervised learning', 'learning algorithm', 'training data', 'inductive bias', 'class labels', 'input object', 'optimal scenario', 'unseen instances', 'unseen situations'], ['class labels', 'labeled training data', 'training data', 'new examples', 'supervised learning', 'learning algorithm', 'inductive bias', 'desired output value', 'input object', 'machine learning task', 'optimal scenario', 'inferred function', 'unseen instances', 'unseen situations'], ['inductive bias', 'training data', 'new examples', 'labeled training data', 'optimal scenario', 'class labels', 'learning algorithm', 'input object', 'supervised learning', 'inferred function', 'desired output value', 'unseen instances', 'machine learning task', 'unseen situations'], ['machine learning task', 'learning algorithm', 'new examples', 'supervised learning', 'inferred function', 'labeled training data', 'desired output value', 'training data', 'class labels', 'input object', 'inductive bias', 'optimal scenario', 'unseen instances', 'unseen situations'], ['labeled training data', 'training data', 'supervised learning', 'class labels', 'new examples', 'learning algorithm', 'desired output value', 'inductive bias', 'inferred function', 'machine learning task', 'optimal scenario', 'input object', 'unseen instances', 'unseen situations']]\n"
          ],
          "name": "stdout"
        }
      ]
    }
  ]
}